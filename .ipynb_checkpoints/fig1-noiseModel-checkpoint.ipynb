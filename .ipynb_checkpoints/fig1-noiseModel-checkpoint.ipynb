{
 "cells": [
  {
   "cell_type": "code",
   "execution_count": 1,
   "id": "90a754d8",
   "metadata": {},
   "outputs": [],
   "source": [
    "%matplotlib inline\n",
    "from utils import *"
   ]
  },
  {
   "cell_type": "markdown",
   "id": "fd6801aa",
   "metadata": {},
   "source": [
    "Due to low-pass filtering of membrane, increased oscillatory current input frequency leads to decreased membrane potential oscillation amplitudes. This decreased amplitude leads to increase tonic input needed to reach threshold. Due to input being the result of a Poisson process, increased tonic input leads to increased input variance. Then, increased variance in input leads to increased variance in membrane potential. Since the variance in membrane potential is proportional to the average weights (and this are in turn what we change to increase the tonic input), the increased varianced will be reflected as proportional increases in instantaneous noise amplitudes. On the other hand, because neurons reach threshold faster under higher frequency oscillations, the accumulated noise at the time of spike (integrating the increased instantaneous noise over time) will tends to be less since it is integrated for less time. Therefore, the resulting increase of decrease in variance when reaching threshold will respond to the relationship between instantaneous noise increase and accumulated noise decrease. "
   ]
  },
  {
   "cell_type": "markdown",
   "id": "6e1fc83a",
   "metadata": {},
   "source": [
    "## Neuron params"
   ]
  },
  {
   "cell_type": "code",
   "execution_count": 2,
   "id": "1b376da3",
   "metadata": {},
   "outputs": [],
   "source": [
    "# Default params\n",
    "R_m = 142 * 1e6                                     # 142 MΩ\n",
    "V_th = 15 * 1e-3                                    # 15 mV\n",
    "tau_m = 24 * 1e-3                                   # 24 ms\n",
    "f = 5                                               # 5 Hz\n",
    "T = 1 / f\n",
    "omega = 2 * np.pi * f                               # 5 Hz in rad/s\n",
    "I_osc = 40 * 1e-12                                  # 40 pA\n",
    "M = 5                                               # number of input levels\n",
    "range_frac = 0.75                                   # fraction of range to use\n",
    "sigma_w_avg = 0.0135                                # average sigma_w\n",
    "eta = sigma_w_to_eta(sigma_w_avg, V_th, tau_m, f)   # noise strength (default: 0.14)"
   ]
  },
  {
   "cell_type": "code",
   "execution_count": null,
   "id": "7583fc06",
   "metadata": {},
   "outputs": [],
   "source": []
  },
  {
   "cell_type": "code",
   "execution_count": null,
   "id": "edbc4f4f",
   "metadata": {},
   "outputs": [],
   "source": []
  },
  {
   "cell_type": "code",
   "execution_count": null,
   "id": "164560e1",
   "metadata": {},
   "outputs": [],
   "source": []
  }
 ],
 "metadata": {
  "kernelspec": {
   "display_name": "Python 3 (ipykernel)",
   "language": "python",
   "name": "python3"
  },
  "language_info": {
   "codemirror_mode": {
    "name": "ipython",
    "version": 3
   },
   "file_extension": ".py",
   "mimetype": "text/x-python",
   "name": "python",
   "nbconvert_exporter": "python",
   "pygments_lexer": "ipython3",
   "version": "3.10.9"
  }
 },
 "nbformat": 4,
 "nbformat_minor": 5
}
